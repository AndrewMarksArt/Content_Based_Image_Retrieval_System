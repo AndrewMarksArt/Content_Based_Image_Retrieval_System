{
 "cells": [
  {
   "cell_type": "code",
   "execution_count": 3,
   "metadata": {},
   "outputs": [],
   "source": [
    "# Imports \n",
    "# Standard DS \n",
    "import pandas as pd\n",
    "import numpy as np\n",
    "import matplotlib.pyplot as plt\n",
    "\n",
    "# Image analysis\n",
    "import cv2"
   ]
  },
  {
   "cell_type": "markdown",
   "metadata": {},
   "source": [
    "### There are 4 Steps to building our CBIR System\n",
    "1. Define our image descriptor --> are we interested in color, shape, texture, etc?\n",
    "2. Index our images --> apply chosen descriptor to each image, extract features, write these features to storage.\n",
    "3. Define our similarity metric --> popular choices are Euclidean, Cosine, chi-squared, etc. We have had some success with Minkowski\n",
    "4. Searching / output --> we will eventually be building a way for a user to submit a query and get results. FOR NOW, we will create a pairwise matrix of distances for our researchers to validate during testing."
   ]
  },
  {
   "cell_type": "code",
   "execution_count": 23,
   "metadata": {},
   "outputs": [],
   "source": [
    "class ColorDescriptors:\n",
    "    def __init__(self, bins):\n",
    "        \"\"\"\n",
    "        Set the number of bins needed for the 3D Hue-Saturation-Value histogram\n",
    "        \n",
    "        ----------\n",
    "        Paramaters\n",
    "        ----------\n",
    "        bins   : tuple of ints representing the number of Hue, Saturation, and Value bins\n",
    "        \n",
    "        return : doesn't not return anything\n",
    "        \"\"\"\n",
    "        \n",
    "        # set the number of histogram bins\n",
    "        self.bins = bins\n",
    "        \n",
    "        \n",
    "    def describe(self, image):\n",
    "        \"\"\"\n",
    "        Convert provided image into feature vector.\n",
    "        \n",
    "        1. convert image to HSV color space\n",
    "        2. initalize the features vector\n",
    "        3. determin image size and center\n",
    "        4. create image masks so image can be scanned in sections\n",
    "        5. loop over segments to build histogram\n",
    "        6. return histogram / features vector as image vector\n",
    "        \n",
    "        ----------\n",
    "        Paramaters\n",
    "        ----------\n",
    "        image  : ndarry representing an image.\n",
    "        \n",
    "        return : list of floating point numbers, an n-dimensional vector \n",
    "                 where n = number of bins * number of segments. \n",
    "        \"\"\"\n",
    "        \n",
    "        # convert the image to the HSV color space and initialize \n",
    "        # the features used to quantify the image\n",
    "        image = cv2.cvtColor(image, cv2.COLOR_BGR2HSV)\n",
    "        features = []\n",
    "        \n",
    "        # get the dimensionsand center of the image\n",
    "        (h, w) = image.shape[:2]\n",
    "        (cX, cY) = (int(w*0.5), int(h*0.5))\n",
    "        \n",
    "        # split image into segmments, this will allow us to simulate\n",
    "        # locality in a color distribution\n",
    "        # Divide into 5 segments, top-left, top-right, bottom-left, \n",
    "        # bottom-right, and center\n",
    "        segments = [ (0, cX, 0, cY), (cX, w, 0, cY), \n",
    "                     (cX, w, cY, h), (0, cX, cY, h) ]\n",
    "        \n",
    "        # create an elliptical mask for the center segment\n",
    "        (axesX, axesY) = (int(w*0.75) // 2, int(h*0.75) //2)\n",
    "        ellipMask = np.zeros(image.shape[:2], dtype = \"uint8\")\n",
    "        cv2.ellipse(ellipMask, (cX, cY), (axesX, axesY), 0, 0, 360, 255, -1)\n",
    "        \n",
    "        # loop over the segments\n",
    "        for (startX, endX, startY, endY) in segments:\n",
    "            # create the mask for each corner subtracting the elliptical center\n",
    "            cornerMask = np.zeros(image.shape[:2], dtype = \"uint8\")\n",
    "            cv2.rectangle(cornerMask, (startX, startY), (endX, endY), 255, -1)\n",
    "            cornerMask = cv2.subtract(cornerMask, ellipMask)\n",
    "            \n",
    "            # extract a color histogram from the image under the mask and update features\n",
    "            hist = self.histogram(image, cornerMask)\n",
    "            features.extend(hist)\n",
    "            \n",
    "        # extract a color histogram from the elliptical region and update features\n",
    "        hist = self.histogram(image, ellipMask)\n",
    "        features.extend(hist)\n",
    "        \n",
    "        # return the feature vector\n",
    "        return features\n",
    "        \n",
    "        \n",
    "    def histogram(self, image, mask):\n",
    "        \"\"\"\n",
    "        Extract a 3D histogram from the masked region of an image.\n",
    "        \n",
    "        ----------\n",
    "        Parameters\n",
    "        ----------\n",
    "        image  : ndarray representing an image\n",
    "        mask   : ndarray representing a masked region\n",
    "        \n",
    "        return : list of floating point numbers, n-dimensional vector representing\n",
    "                 the values of the HSV histogram for the masked image segment\n",
    "        \"\"\"\n",
    "        \n",
    "        # extract a 3D color histogram from the masked region of the image,\n",
    "        # use the supplied number of bins\n",
    "        hist = cv2.calcHist( [image], [0, 1, 2], mask, self.bins,\n",
    "                             [0, 180, 0, 256, 0, 256] )\n",
    "        \n",
    "        # normalize the histogram\n",
    "        hist = cv2.normalize(hist, hist).flatten()\n",
    "        \n",
    "        # return the histogram\n",
    "        return hist\n",
    "    \n",
    "        "
   ]
  },
  {
   "cell_type": "code",
   "execution_count": null,
   "metadata": {},
   "outputs": [],
   "source": []
  },
  {
   "cell_type": "code",
   "execution_count": null,
   "metadata": {},
   "outputs": [],
   "source": []
  },
  {
   "cell_type": "code",
   "execution_count": 24,
   "metadata": {},
   "outputs": [],
   "source": [
    "# set bins for Hue, Saturation, and Value\n",
    "bins = (8, 12, 3)\n",
    "\n",
    "# initalize the color descriptor\n",
    "cd = ColorDescriptors(bins)"
   ]
  },
  {
   "cell_type": "code",
   "execution_count": 25,
   "metadata": {},
   "outputs": [],
   "source": [
    "# set path to image we want to open\n",
    "img_f_name = 'Paintings/1947.001.png'\n",
    "\n",
    "# read the image\n",
    "img = cv2.imread(img_f_name)\n",
    "\n",
    "# get the features for the image\n",
    "features = cd.describe(img)"
   ]
  },
  {
   "cell_type": "code",
   "execution_count": 29,
   "metadata": {},
   "outputs": [],
   "source": [
    "\"\"\"\n",
    "There are 8 hue bins, 12 saturation bins, and 3 value bins so the histogram for each segment should be (8 * 12 * 3) = 288 bins\n",
    "\n",
    "There are 5 segments so the total feature vector length should be 288 * 5 = 1440\n",
    "\"\"\"\n",
    "\n",
    "assert len(features) == 8*12*3*5"
   ]
  },
  {
   "cell_type": "code",
   "execution_count": null,
   "metadata": {},
   "outputs": [],
   "source": []
  },
  {
   "cell_type": "code",
   "execution_count": null,
   "metadata": {},
   "outputs": [],
   "source": []
  },
  {
   "cell_type": "code",
   "execution_count": null,
   "metadata": {},
   "outputs": [],
   "source": []
  },
  {
   "cell_type": "code",
   "execution_count": null,
   "metadata": {},
   "outputs": [],
   "source": []
  },
  {
   "cell_type": "code",
   "execution_count": null,
   "metadata": {},
   "outputs": [],
   "source": []
  }
 ],
 "metadata": {
  "kernelspec": {
   "display_name": "Python 3",
   "language": "python",
   "name": "python3"
  },
  "language_info": {
   "codemirror_mode": {
    "name": "ipython",
    "version": 3
   },
   "file_extension": ".py",
   "mimetype": "text/x-python",
   "name": "python",
   "nbconvert_exporter": "python",
   "pygments_lexer": "ipython3",
   "version": "3.7.6"
  }
 },
 "nbformat": 4,
 "nbformat_minor": 4
}
