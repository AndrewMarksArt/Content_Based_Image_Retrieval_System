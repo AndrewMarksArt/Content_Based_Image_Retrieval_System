{
 "cells": [
  {
   "cell_type": "code",
   "execution_count": 2,
   "metadata": {},
   "outputs": [],
   "source": [
    "# Imports to get and work with files\n",
    "import os\n",
    "import csv\n",
    "\n",
    "# Standard DS \n",
    "import pandas as pd\n",
    "import numpy as np\n",
    "import matplotlib.pyplot as plt\n",
    "\n",
    "# Image analysis\n",
    "import cv2\n",
    "from PIL import Image\n",
    "from skimage import feature"
   ]
  },
  {
   "cell_type": "markdown",
   "metadata": {},
   "source": [
    "## Local Binary Paterns or LBP for short\n",
    "A texture descriptor to compute local representation of texture constructed by comparing each pixel with its surrounding neighborhood of pixels. Another popular texture descriptor would be Haralick texture features but that computes a global representation of texture based on the Gray Level Co-occurance Matrix. We chose to start with LBPs for teh local representation component but it might be worth exploring Haralick texture features in the future.\n",
    "\n",
    "**Basic steps:**\n",
    "1. Convert the image to grayscale\n",
    "2. for each pixel in the grayscale image, select a neighborhood of size 'r' surrounding the center pixel\n",
    "3. A LBP value is then calculated for this center pixel and stored in the output 2D arraywith the same width and height as the input image\n",
    "4. The process of thresholding, accumulating binary strings, and storing the output value in the LBP array is repeated for each pixel in the input image\n",
    "5. The last step is to compute a histogram over the output LBP array --> if using a 3 x 3 neighborhood the are 2^8=256 possible patterns so we can construct a 256-bin histogram of the final image vector.\n",
    "\n",
    "The main benefit and largest drawback is that we can capture extremely fine-grained details and with a fixed scale. There is an extension to the original LBP implementation to handle variable neighborhood sizes --> moving from a square neighborhood to a circularly symmetric neighborhood made of a number of points 'p' and the radius of the circle 'r' allows us to account for different scales.\n",
    "\n",
    "Lastly its important to consider the concept of LBP uniformity... (this section will be updated soon with an overview and links to papers)"
   ]
  },
  {
   "cell_type": "code",
   "execution_count": null,
   "metadata": {},
   "outputs": [],
   "source": [
    "class LocalBinaryPatterns:\n",
    "    def __init__(self, numPoints, radius):\n",
    "        \"\"\"\n",
    "        \n",
    "        \"\"\"\n",
    "        \n",
    "        self.numPoints = numPoints\n",
    "        self.radius = radius\n",
    "        \n",
    "    def describe(self, image, eps=1e-7):\n",
    "        \"\"\"\n",
    "        \n",
    "        \"\"\"\n",
    "        \n",
    "        \n",
    "        return hist\n",
    "        \n",
    "        "
   ]
  },
  {
   "cell_type": "code",
   "execution_count": null,
   "metadata": {},
   "outputs": [],
   "source": []
  },
  {
   "cell_type": "code",
   "execution_count": null,
   "metadata": {},
   "outputs": [],
   "source": []
  },
  {
   "cell_type": "code",
   "execution_count": null,
   "metadata": {},
   "outputs": [],
   "source": []
  },
  {
   "cell_type": "code",
   "execution_count": null,
   "metadata": {},
   "outputs": [],
   "source": []
  },
  {
   "cell_type": "code",
   "execution_count": null,
   "metadata": {},
   "outputs": [],
   "source": []
  },
  {
   "cell_type": "code",
   "execution_count": null,
   "metadata": {},
   "outputs": [],
   "source": []
  },
  {
   "cell_type": "code",
   "execution_count": null,
   "metadata": {},
   "outputs": [],
   "source": []
  },
  {
   "cell_type": "code",
   "execution_count": null,
   "metadata": {},
   "outputs": [],
   "source": []
  },
  {
   "cell_type": "code",
   "execution_count": null,
   "metadata": {},
   "outputs": [],
   "source": []
  },
  {
   "cell_type": "code",
   "execution_count": null,
   "metadata": {},
   "outputs": [],
   "source": []
  }
 ],
 "metadata": {
  "kernelspec": {
   "display_name": "Python 3",
   "language": "python",
   "name": "python3"
  },
  "language_info": {
   "codemirror_mode": {
    "name": "ipython",
    "version": 3
   },
   "file_extension": ".py",
   "mimetype": "text/x-python",
   "name": "python",
   "nbconvert_exporter": "python",
   "pygments_lexer": "ipython3",
   "version": "3.7.6"
  }
 },
 "nbformat": 4,
 "nbformat_minor": 4
}
